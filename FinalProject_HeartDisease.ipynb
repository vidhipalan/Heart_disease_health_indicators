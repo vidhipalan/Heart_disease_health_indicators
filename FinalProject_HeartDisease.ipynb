{
 "cells": [
  {
   "cell_type": "markdown",
   "id": "ca220767",
   "metadata": {},
   "source": [
    "## Final Project"
   ]
  },
  {
   "cell_type": "markdown",
   "id": "f03cd119",
   "metadata": {},
   "source": []
  }
 ],
 "metadata": {
  "language_info": {
   "name": "python"
  }
 },
 "nbformat": 4,
 "nbformat_minor": 5
}
